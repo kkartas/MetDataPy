{
 "cells": [
  {
   "cell_type": "markdown",
   "metadata": {},
   "source": [
    "# MetDataPy Quickstart Tutorial\n",
    "\n",
    "This notebook demonstrates a complete end-to-end workflow using MetDataPy:\n",
    "\n",
    "1. **Data Ingestion** - Load raw weather data with automatic column mapping\n",
    "2. **Quality Control** - Detect and flag anomalies (spikes, flatlines, out-of-range values)\n",
    "3. **Derived Metrics** - Calculate dew point, VPD, heat index, and wind chill\n",
    "4. **Data Preparation** - Handle gaps, resample, add calendar features\n",
    "5. **ML Preparation** - Create supervised dataset with lags and time-safe splits\n",
    "6. **Export** - Save processed data to Parquet\n",
    "\n",
    "## Prerequisites\n",
    "\n",
    "```bash\n",
    "pip install -e .\n",
    "pip install jupyter matplotlib\n",
    "```\n"
   ]
  },
  {
   "cell_type": "code",
   "execution_count": null,
   "metadata": {},
   "outputs": [],
   "source": [
    "import pandas as pd\n",
    "import numpy as np\n",
    "import matplotlib.pyplot as plt\n",
    "from pathlib import Path\n",
    "\n",
    "# MetDataPy imports\n",
    "from metdatapy.mapper import Detector, Mapper\n",
    "from metdatapy.core import WeatherSet\n",
    "from metdatapy.mlprep import make_supervised, time_split, scale\n",
    "\n",
    "# Set display options\n",
    "pd.set_option('display.max_columns', None)\n",
    "pd.set_option('display.width', 120)\n",
    "\n",
    "print(\"✓ Imports successful\")\n"
   ]
  },
  {
   "cell_type": "markdown",
   "metadata": {},
   "source": [
    "## 1. Load Raw Data\n",
    "\n",
    "We'll use the sample weather dataset generated for this tutorial.\n"
   ]
  },
  {
   "cell_type": "code",
   "execution_count": null,
   "metadata": {},
   "outputs": [],
   "source": [
    "# Load raw CSV data\n",
    "data_path = \"../data/sample_weather_2024.csv\"\n",
    "df_raw = pd.read_csv(data_path)\n",
    "\n",
    "print(f\"Loaded {len(df_raw):,} records\")\n",
    "print(f\"\\nColumns: {list(df_raw.columns)}\")\n",
    "print(f\"\\nFirst few rows:\")\n",
    "df_raw.head()\n"
   ]
  }
 ],
 "metadata": {
  "kernelspec": {
   "display_name": "Python 3",
   "language": "python",
   "name": "python3"
  },
  "language_info": {
   "name": "python",
   "version": "3.9.0"
  }
 },
 "nbformat": 4,
 "nbformat_minor": 4
}
